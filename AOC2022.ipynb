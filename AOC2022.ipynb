{
 "cells": [
  {
   "cell_type": "markdown",
   "metadata": {},
   "source": [
    "# Advent of Code 2022"
   ]
  },
  {
   "cell_type": "code",
   "execution_count": 26,
   "metadata": {},
   "outputs": [],
   "source": [
    "import itertools as it"
   ]
  },
  {
   "cell_type": "code",
   "execution_count": 1,
   "metadata": {},
   "outputs": [],
   "source": [
    "def getInput(path):\n",
    "    with open(\"data/\"+path) as f:\n",
    "        return [line.rstrip() for line in f.readlines()]\n",
    "def toLLints(lst): #to List of Lists of ints\n",
    "    L = [[]]\n",
    "    for x in lst:\n",
    "        if x=='':\n",
    "            L.append([])\n",
    "        else:\n",
    "            L[-1].append(int(x))\n",
    "    return L"
   ]
  },
  {
   "cell_type": "markdown",
   "metadata": {},
   "source": [
    "## Day 1"
   ]
  },
  {
   "cell_type": "code",
   "execution_count": 2,
   "metadata": {},
   "outputs": [
    {
     "name": "stdout",
     "output_type": "stream",
     "text": [
      "69836\n",
      "207968\n"
     ]
    }
   ],
   "source": [
    "L = [sum(x) for x in toLLints(getInput(\"input01.txt\"))]\n",
    "L.sort()\n",
    "print(L[-1])\n",
    "print(sum(L[-3:]))"
   ]
  },
  {
   "cell_type": "markdown",
   "metadata": {},
   "source": [
    "## Day 2"
   ]
  },
  {
   "cell_type": "code",
   "execution_count": 3,
   "metadata": {},
   "outputs": [
    {
     "name": "stdout",
     "output_type": "stream",
     "text": [
      "12586\n",
      "13193\n"
     ]
    }
   ],
   "source": [
    "def rpsScore(st):\n",
    "    t={\"A X\":1+3, \"A Y\":2+6, \"A Z\":3+0,\n",
    "       \"B X\":1+0, \"B Y\":2+3, \"B Z\":3+6,\n",
    "       \"C X\":1+6, \"C Y\":2+0, \"C Z\":3+3}\n",
    "    return t[st]\n",
    "def rpsScore2(st):\n",
    "    t={\"A X\":3+0, \"A Y\":1+3, \"A Z\":2+6,\n",
    "       \"B X\":1+0, \"B Y\":2+3, \"B Z\":3+6,\n",
    "       \"C X\":2+0, \"C Y\":3+3, \"C Z\":1+6}\n",
    "    return t[st]\n",
    "print(sum([rpsScore(x) for x in getInput(\"input02.txt\")]))\n",
    "print(sum([rpsScore2(x) for x in getInput(\"input02.txt\")]))"
   ]
  },
  {
   "cell_type": "markdown",
   "metadata": {},
   "source": [
    "## Day 3"
   ]
  },
  {
   "cell_type": "code",
   "execution_count": 83,
   "metadata": {},
   "outputs": [
    {
     "name": "stdout",
     "output_type": "stream",
     "text": [
      "8105\n",
      "2363\n"
     ]
    }
   ],
   "source": [
    "def priority(letter):\n",
    "    n=ord(letter)\n",
    "    if n>=97:\n",
    "        return n-96\n",
    "    else:\n",
    "        return n-38\n",
    "rucksacks=[list(map(priority,list(x))) for x in getInput(\"input03.txt\")]\n",
    "rs1=[[set(x[:len(x)//2]),set(x[len(x)//2:])] for x in rucksacks]\n",
    "print(sum(y for x in rs1 for y in set.intersection(x[0],x[1])))\n",
    "\n",
    "rs2=[rucksacks[i:i+3] for i in range(0,len(rucksacks),3)]\n",
    "print(sum(y for x in rs2 for y in set.intersection(set(x[0]),set(x[1]),set(x[2]))))"
   ]
  },
  {
   "cell_type": "code",
   "execution_count": null,
   "metadata": {},
   "outputs": [],
   "source": []
  }
 ],
 "metadata": {
  "kernelspec": {
   "display_name": "Python 3",
   "language": "python",
   "name": "python3"
  },
  "language_info": {
   "codemirror_mode": {
    "name": "ipython",
    "version": 3
   },
   "file_extension": ".py",
   "mimetype": "text/x-python",
   "name": "python",
   "nbconvert_exporter": "python",
   "pygments_lexer": "ipython3",
   "version": "3.7.4"
  }
 },
 "nbformat": 4,
 "nbformat_minor": 4
}
