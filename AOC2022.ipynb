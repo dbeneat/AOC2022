{
 "cells": [
  {
   "cell_type": "markdown",
   "metadata": {},
   "source": [
    "# Advent of Code 2022"
   ]
  },
  {
   "cell_type": "code",
   "execution_count": 17,
   "metadata": {},
   "outputs": [],
   "source": [
    "def getInput(path):\n",
    "    with open(\"data/\"+path) as f:\n",
    "        return [line.rstrip() for line in f.readlines()]\n",
    "def toLLints(lst): #to List of Lists of ints\n",
    "    L = [[]]\n",
    "    for x in lst:\n",
    "        if x=='':\n",
    "            L.append([])\n",
    "        else:\n",
    "            L[-1].append(int(x))\n",
    "    return L\n",
    "        "
   ]
  },
  {
   "cell_type": "markdown",
   "metadata": {},
   "source": [
    "## Day 1"
   ]
  },
  {
   "cell_type": "code",
   "execution_count": 45,
   "metadata": {},
   "outputs": [
    {
     "name": "stdout",
     "output_type": "stream",
     "text": [
      "69836\n",
      "207968\n"
     ]
    }
   ],
   "source": [
    "L = [sum(x) for x in toLLints(getInput(\"input01.txt\"))]\n",
    "L.sort()\n",
    "print(L[-1])\n",
    "print(sum(L[-3:]))"
   ]
  },
  {
   "cell_type": "code",
   "execution_count": null,
   "metadata": {},
   "outputs": [],
   "source": []
  }
 ],
 "metadata": {
  "kernelspec": {
   "display_name": "Python 3",
   "language": "python",
   "name": "python3"
  },
  "language_info": {
   "codemirror_mode": {
    "name": "ipython",
    "version": 3
   },
   "file_extension": ".py",
   "mimetype": "text/x-python",
   "name": "python",
   "nbconvert_exporter": "python",
   "pygments_lexer": "ipython3",
   "version": "3.7.4"
  }
 },
 "nbformat": 4,
 "nbformat_minor": 4
}
