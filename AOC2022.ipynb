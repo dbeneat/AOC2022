{
 "cells": [
  {
   "cell_type": "markdown",
   "metadata": {},
   "source": [
    "# Advent of Code 2022"
   ]
  },
  {
   "cell_type": "code",
   "execution_count": 50,
   "metadata": {},
   "outputs": [],
   "source": [
    "from copy import deepcopy\n",
    "from functools import cmp_to_key\n",
    "import re\n",
    "import numpy as np"
   ]
  },
  {
   "cell_type": "code",
   "execution_count": null,
   "metadata": {},
   "outputs": [],
   "source": [
    "def getInput(path):\n",
    "    with open(\"data/\"+path) as f:\n",
    "        return [line.rstrip() for line in f.readlines()]\n",
    "def toLLints(lst): #to List of Lists of ints\n",
    "    L = [[]]\n",
    "    for x in lst:\n",
    "        if x=='':\n",
    "            L.append([])\n",
    "        else:\n",
    "            L[-1].append(int(x))\n",
    "    return L"
   ]
  },
  {
   "cell_type": "markdown",
   "metadata": {},
   "source": [
    "## Day 1: Calorie Counting"
   ]
  },
  {
   "cell_type": "code",
   "execution_count": null,
   "metadata": {},
   "outputs": [],
   "source": [
    "L = [sum(x) for x in toLLints(getInput(\"input01.txt\"))]\n",
    "L.sort()\n",
    "print(L[-1])\n",
    "print(sum(L[-3:]))"
   ]
  },
  {
   "cell_type": "markdown",
   "metadata": {},
   "source": [
    "## Day 2: Rock Paper Scissors"
   ]
  },
  {
   "cell_type": "code",
   "execution_count": null,
   "metadata": {},
   "outputs": [],
   "source": [
    "def rpsScore(st):\n",
    "    t={\"A X\":1+3, \"A Y\":2+6, \"A Z\":3+0,\n",
    "       \"B X\":1+0, \"B Y\":2+3, \"B Z\":3+6,\n",
    "       \"C X\":1+6, \"C Y\":2+0, \"C Z\":3+3}\n",
    "    return t[st]\n",
    "def rpsScore2(st):\n",
    "    t={\"A X\":3+0, \"A Y\":1+3, \"A Z\":2+6,\n",
    "       \"B X\":1+0, \"B Y\":2+3, \"B Z\":3+6,\n",
    "       \"C X\":2+0, \"C Y\":3+3, \"C Z\":1+6}\n",
    "    return t[st]\n",
    "print(sum([rpsScore(x) for x in getInput(\"input02.txt\")]))\n",
    "print(sum([rpsScore2(x) for x in getInput(\"input02.txt\")]))"
   ]
  },
  {
   "cell_type": "markdown",
   "metadata": {},
   "source": [
    "## Day 3: Rucksack Reorganization"
   ]
  },
  {
   "cell_type": "code",
   "execution_count": null,
   "metadata": {},
   "outputs": [],
   "source": [
    "def priority(letter):\n",
    "    n=ord(letter)\n",
    "    if n>=97:\n",
    "        return n-96\n",
    "    else:\n",
    "        return n-38\n",
    "rucksacks=[list(map(priority,list(x))) for x in getInput(\"input03.txt\")]\n",
    "rs1=[[set(x[:len(x)//2]),set(x[len(x)//2:])] for x in rucksacks]\n",
    "print(sum(y for x in rs1 for y in set.intersection(x[0],x[1])))\n",
    "\n",
    "rs2=[rucksacks[i:i+3] for i in range(0,len(rucksacks),3)]\n",
    "print(sum(y for x in rs2 for y in set.intersection(set(x[0]),set(x[1]),set(x[2]))))"
   ]
  },
  {
   "cell_type": "markdown",
   "metadata": {},
   "source": [
    "## Day 4: Camp Cleanup"
   ]
  },
  {
   "cell_type": "code",
   "execution_count": null,
   "metadata": {},
   "outputs": [],
   "source": [
    "def inclusion(t1,t2):\n",
    "    return (t1[0]-t2[0])*(t1[1]-t2[1])<=0\n",
    "def overlap(t1,t2):\n",
    "    return t2[0]<=t1[1] and t1[0]<=t2[1]\n",
    "assign=[\n",
    "    [tuple(map(int,y.split(\"-\"))) for y in x.split(\",\")]\n",
    "     for x in getInput(\"input04.txt\")\n",
    "]\n",
    "print(len([x for x in assign if inclusion(*x)]))\n",
    "print(len([x for x in assign if overlap(*x)]))"
   ]
  },
  {
   "cell_type": "markdown",
   "metadata": {},
   "source": [
    "## Day 5: Supply Stacks"
   ]
  },
  {
   "cell_type": "code",
   "execution_count": null,
   "metadata": {},
   "outputs": [],
   "source": [
    "in5 = getInput(\"input05.txt\")\n",
    "sep = in5.index('')\n",
    "nstacks = int(in5[sep-1][-1])\n",
    "stacktxt,movestxt = in5[:sep-1],in5[sep+1:]\n",
    "moves = [(int(y[1]),int(y[3]),int(y[5])) for y in [x.split() for x in movestxt]]\n",
    "stacks = [[] for _ in range(nstacks+1)] #stack 0 is a temporary storage\n",
    "for i in range(len(stacktxt)-1,-1,-1):\n",
    "    for j in range((len(stacktxt[i])+1)//4):\n",
    "        letter = stacktxt[i][4*j+1]\n",
    "        if letter!=' ':\n",
    "            stacks[j+1].append(letter)\n",
    "\n",
    "def stackmove(n, src, dst):\n",
    "    for i in range(n):\n",
    "            st[dst].append(st[src].pop())\n",
    "def stackmove2(n, src, dst):\n",
    "    stackmove(n,src,0)\n",
    "    stackmove(n,0,dst)\n",
    "        \n",
    "st = deepcopy(stacks)      \n",
    "for mv in moves:\n",
    "    stackmove(*mv)\n",
    "print(''.join([x[-1] for x in st[1:]]))\n",
    "\n",
    "st = deepcopy(stacks)   \n",
    "for mv in moves:\n",
    "    stackmove2(*mv)\n",
    "print(''.join([x[-1] for x in st[1:]]))"
   ]
  },
  {
   "cell_type": "markdown",
   "metadata": {},
   "source": [
    "## Day 6: Tuning Trouble"
   ]
  },
  {
   "cell_type": "code",
   "execution_count": null,
   "metadata": {},
   "outputs": [],
   "source": [
    "def startOfPacket(txt,size):\n",
    "    for i in range(len(txt)):\n",
    "        if len(set(txt[i:i+size]))==size:\n",
    "            return i+size        \n",
    "\n",
    "print(startOfPacket(getInput(\"input06.txt\")[0],4))\n",
    "print(startOfPacket(getInput(\"input06.txt\")[0],14))"
   ]
  },
  {
   "cell_type": "markdown",
   "metadata": {},
   "source": [
    "## Day 7: No Space Left On Device"
   ]
  },
  {
   "cell_type": "code",
   "execution_count": null,
   "metadata": {},
   "outputs": [],
   "source": [
    "def mktree(cmds):\n",
    "    tree = {} \n",
    "    currdir = ['.']\n",
    "    currpath = '.'\n",
    "    listing = False\n",
    "    for x in cmds:\n",
    "        if x[0]=='$' and x[1]=='cd':\n",
    "            if x[2]=='..':\n",
    "                currdir.pop()\n",
    "            elif x[2]=='/':\n",
    "                currdir = ['.']\n",
    "            else:\n",
    "                currdir.append(x[2])\n",
    "            currpath = '/'.join(currdir)\n",
    "            listing = False\n",
    "        elif x[0]=='$' and x[1]=='ls':\n",
    "            listing = True\n",
    "        elif listing:\n",
    "            if x[0].isnumeric():\n",
    "                if currpath not in tree:\n",
    "                    tree[currpath]=[int(x[0]),[]]\n",
    "                else:\n",
    "                    tree[currpath][0]+=int(x[0])\n",
    "            else:\n",
    "                if currpath not in tree:\n",
    "                    tree[currpath]=[0,[currpath+'/'+x[1]]]\n",
    "                else:\n",
    "                    tree[currpath][1].append(currpath+'/'+x[1])\n",
    "            \n",
    "    return tree\n",
    "\n",
    "\n",
    "cmds = [x.split() for x in getInput(\"input07.txt\")]\n",
    "tree = mktree(cmds)\n",
    "totalSizes = {}\n",
    "while '.' not in totalSizes:\n",
    "    for x in tree:\n",
    "        if all(y in totalSizes for y in tree[x][1]):\n",
    "            totalSizes[x] = tree[x][0] + sum(totalSizes[y] for y in tree[x][1])\n",
    "\n",
    "\n",
    "print(sum(x for x in totalSizes.values() if x<=100000))\n",
    "print(min(x for x in totalSizes.values() if 70000000-totalSizes['.']+x>=30000000))"
   ]
  },
  {
   "cell_type": "markdown",
   "metadata": {},
   "source": [
    "## Day 8: Treetop Tree House"
   ]
  },
  {
   "cell_type": "code",
   "execution_count": null,
   "metadata": {},
   "outputs": [],
   "source": [
    "def visibilityMap():\n",
    "    n = len(in8)\n",
    "    vis = [[False for j in range(n)] for i in range(n)]\n",
    "    for i in range(n):\n",
    "        record = -1\n",
    "        for j in range(n):\n",
    "            if in8[i][j]>record:\n",
    "                record = in8[i][j]\n",
    "                vis[i][j] = True   \n",
    "    for i in range(n):\n",
    "        record = -1\n",
    "        for j in range(n-1,-1,-1):\n",
    "            if in8[i][j]>record:\n",
    "                record = in8[i][j]\n",
    "                vis[i][j] = True\n",
    "    for j in range(n):\n",
    "        record = -1\n",
    "        for i in range(n):\n",
    "            if in8[i][j]>record:\n",
    "                record = in8[i][j]\n",
    "                vis[i][j] = True\n",
    "    for j in range(n):\n",
    "        record = -1\n",
    "        for i in range(n-1,-1,-1):\n",
    "            if in8[i][j]>record:\n",
    "                record = in8[i][j]\n",
    "                vis[i][j] = True\n",
    "    return vis\n",
    "\n",
    "def scenicScore(i0,j0):\n",
    "    n = len(in8)\n",
    "    record = in8[i0][j0]\n",
    "    a=0\n",
    "    i=i0+1\n",
    "    while i<n:\n",
    "        a+=1\n",
    "        if in8[i][j0]>=record:\n",
    "            break\n",
    "        i+=1\n",
    "    b=0\n",
    "    i=i0-1\n",
    "    while i>=0:\n",
    "        b+=1\n",
    "        if in8[i][j0]>=record:\n",
    "            break\n",
    "        i-=1\n",
    "    c=0\n",
    "    j=j0+1\n",
    "    while j<n:\n",
    "        c+=1\n",
    "        if in8[i0][j]>=record:\n",
    "            break\n",
    "        j+=1\n",
    "    d=0\n",
    "    j=j0-1\n",
    "    while j>=0:\n",
    "        d+=1\n",
    "        if in8[i0][j]>=record:\n",
    "            break\n",
    "        j-=1\n",
    "    return (a,b,c,d)\n",
    "\n",
    "in8 = [list(map(int,x)) for x in getInput(\"input08.txt\")]\n",
    "print(sum(sum(x) for x in visibilityMap()))\n",
    "\n",
    "scen = [[scenicScore(i,j) for j in range(len(in8))] for i in range(len(in8))]\n",
    "print(max(x[0]*x[1]*x[2]*x[3] for y in scen for x in y))"
   ]
  },
  {
   "cell_type": "markdown",
   "metadata": {},
   "source": [
    "## Day 9: Rope Bridge"
   ]
  },
  {
   "cell_type": "code",
   "execution_count": 11,
   "metadata": {},
   "outputs": [
    {
     "name": "stdout",
     "output_type": "stream",
     "text": [
      "5874\n",
      "2467\n"
     ]
    }
   ],
   "source": [
    "directions = {'U':(0,1), 'D':(0,-1), 'L':(-1,0), 'R':(1,0)}\n",
    "\n",
    "def sign(x):\n",
    "    if x<0:\n",
    "        return -1\n",
    "    elif x==0:\n",
    "        return 0\n",
    "    else:\n",
    "        return 1\n",
    "    \n",
    "def updHead(state, moveX, moveY):\n",
    "    state[0]+=moveX\n",
    "    state[1]+=moveY\n",
    "    \n",
    "def updTail(state):\n",
    "    for i in range(len(state)//2-1):\n",
    "        dx = state[2*i]-state[2*i+2]\n",
    "        dy = state[2*i+1]-state[2*i+3]\n",
    "        if abs(dx)<=1 and abs(dy)<=1:\n",
    "            pass\n",
    "        else:\n",
    "            state[2*i+2]+= sign(dx)\n",
    "            state[2*i+3]+= sign(dy)\n",
    "\n",
    "state = [0,0,0,0]\n",
    "positions = {(0,0):True}\n",
    "for command in getInput(\"input09.txt\"):\n",
    "    d = command[0]\n",
    "    for _ in range(int(command[2:])):\n",
    "        updHead(state, *directions[d])\n",
    "        updTail(state)\n",
    "        positions[(state[2],state[3])] = True\n",
    "print(len(positions))\n",
    "\n",
    "state = [0,0]*20\n",
    "positions = {(0,0):True}\n",
    "for command in getInput(\"input09.txt\"):\n",
    "    d = command[0]\n",
    "    for _ in range(int(command[2:])):\n",
    "        updHead(state, *directions[d])\n",
    "        updTail(state)\n",
    "        positions[(state[18],state[19])] = True\n",
    "print(len(positions))"
   ]
  },
  {
   "cell_type": "markdown",
   "metadata": {},
   "source": [
    "## Day 10: Cathode-Ray Tube"
   ]
  },
  {
   "cell_type": "code",
   "execution_count": 12,
   "metadata": {},
   "outputs": [
    {
     "name": "stdout",
     "output_type": "stream",
     "text": [
      "part 2:\n",
      "####.####.####..##..#..#...##..##..###..\n",
      "#.......#.#....#..#.#..#....#.#..#.#..#.\n",
      "###....#..###..#....####....#.#..#.###..\n",
      "#.....#...#....#....#..#....#.####.#..#.\n",
      "#....#....#....#..#.#..#.#..#.#..#.#..##\n",
      "####.####.#.....##..#..#..##..#..#.###..\n",
      "part 1: 13180\n"
     ]
    }
   ],
   "source": [
    "opcodes = getInput(\"input10.txt\")\n",
    "cycle = 0\n",
    "instr = \"\"\n",
    "xreg = 1\n",
    "timer = 0\n",
    "n = 0\n",
    "totalstrength = 0\n",
    "\n",
    "print(\"part 2:\")\n",
    "while cycle < 240:\n",
    "    if cycle%40==0:\n",
    "        row = ['.']*40\n",
    "    cycle+=1\n",
    "    if timer==0:\n",
    "        xreg+=n\n",
    "    if(cycle in [20,60,100,140,180,220]):\n",
    "        totalstrength += cycle*xreg\n",
    "    ###Update screen\n",
    "    pixelnum = cycle%40-1\n",
    "    if pixelnum>=xreg-1 and pixelnum<=xreg+1:\n",
    "        row[pixelnum]='#'\n",
    "    #####\n",
    "    if timer == 0:\n",
    "        if len(opcodes):\n",
    "            instr = opcodes.pop(0)\n",
    "            if instr == \"noop\":\n",
    "                timer = 1\n",
    "                n=0\n",
    "            else:\n",
    "                timer = 2\n",
    "                n = int(instr[5:])\n",
    "        else:\n",
    "            instr = \"\"\n",
    "    if timer>0:\n",
    "        timer -=1\n",
    "    if cycle%40==0:\n",
    "        print(\"\".join(row))\n",
    "print(\"part 1:\",totalstrength)"
   ]
  },
  {
   "cell_type": "markdown",
   "metadata": {},
   "source": [
    "## Day 11: Monkey in the Middle"
   ]
  },
  {
   "cell_type": "code",
   "execution_count": 13,
   "metadata": {},
   "outputs": [
    {
     "name": "stdout",
     "output_type": "stream",
     "text": [
      "99840\n",
      "20683044837\n"
     ]
    }
   ],
   "source": [
    "def monkeyop(monkeynum,old):\n",
    "    if monkeynum==0:\n",
    "        return old*11\n",
    "    if monkeynum==1:\n",
    "        return old*old\n",
    "    if monkeynum==2:\n",
    "        return old+1\n",
    "    if monkeynum==3:\n",
    "        return old+2\n",
    "    if monkeynum==4:\n",
    "        return old*13\n",
    "    if monkeynum==5:\n",
    "        return old+5\n",
    "    if monkeynum==6:\n",
    "        return old+6\n",
    "    if monkeynum==7:\n",
    "        return old+7\n",
    "\n",
    "def monkeythrow(monkeynum,val):\n",
    "    tab = [(2,4,7),(7,3,6),(13,4,0),(3,6,5),(19,1,7),(17,2,0),(11,2,5),(5,1,3)]\n",
    "    mod,mon1,mon2 = tab[monkeynum]\n",
    "    if val%mod==0:\n",
    "        return mon1\n",
    "    else:\n",
    "        return mon2\n",
    "    \n",
    "startingValues = [[84, 66, 62, 69, 88, 91, 91],[98, 50, 76, 99],[72, 56, 94],\n",
    "                  [55, 88, 90, 77, 60, 67],[69, 72, 63, 60, 72, 52, 63, 78],\n",
    "                  [89, 73],[78, 68, 98, 88, 66],[70]]\n",
    "    \n",
    "monkeys = deepcopy(startingValues)\n",
    "inspections = [0]*len(monkeys)\n",
    "\n",
    "for _ in range(20):\n",
    "    for monkeynum in range(len(monkeys)):\n",
    "        lst = monkeys[monkeynum]\n",
    "        for i in range(len(lst)):\n",
    "            val = lst[0]\n",
    "            inspections[monkeynum]+=1\n",
    "            val = monkeyop(monkeynum,val)\n",
    "            val//=3\n",
    "            to = monkeythrow(monkeynum,val)\n",
    "            monkeys[monkeynum].pop(0)\n",
    "            monkeys[to].append(val)\n",
    "inspections.sort()\n",
    "print(inspections[-1]*inspections[-2])\n",
    "\n",
    "monkeys = deepcopy(startingValues)\n",
    "inspections = [0]*len(monkeys)\n",
    "\n",
    "for _ in range(10000):\n",
    "    for monkeynum in range(len(monkeys)):\n",
    "        lst = monkeys[monkeynum]\n",
    "        for i in range(len(lst)):\n",
    "            val = lst[0]\n",
    "            inspections[monkeynum]+=1\n",
    "            val = monkeyop(monkeynum,val)\n",
    "            val%=2*3*5*7*11*13*17*19 #Chinese remainder theorem\n",
    "            to = monkeythrow(monkeynum,val)\n",
    "            monkeys[monkeynum].pop(0)\n",
    "            monkeys[to].append(val)\n",
    "inspections.sort()\n",
    "print(inspections[-1]*inspections[-2])"
   ]
  },
  {
   "cell_type": "markdown",
   "metadata": {},
   "source": [
    "## Day 12: Hill Climbing Algorithm"
   ]
  },
  {
   "cell_type": "code",
   "execution_count": 14,
   "metadata": {},
   "outputs": [
    {
     "name": "stdout",
     "output_type": "stream",
     "text": [
      "350\n",
      "349\n"
     ]
    }
   ],
   "source": [
    "def height(char):\n",
    "    if char=='S':\n",
    "        char='a'\n",
    "    if char=='E':\n",
    "        char='z'\n",
    "    return ord(char)-ord('a')\n",
    "\n",
    "in12 = getInput(\"input12.txt\")\n",
    "h,w = len(in12),len(in12[0])\n",
    "hmap = [[0 for j in range(w)] for i in range(h)]\n",
    "dmap = [[1000000 for j in range(w)] for i in range(h)]\n",
    "start,end = None,None\n",
    "\n",
    "for i in range(h):\n",
    "    for j in range(w):\n",
    "        if in12[i][j] == 'S':\n",
    "            start = (i,j)\n",
    "        elif in12[i][j] == 'E':\n",
    "            end = (i,j)\n",
    "        hmap[i][j] = height(in12[i][j])\n",
    "\n",
    "\n",
    "def neighbors(u):\n",
    "    L=[]\n",
    "    i,j=u\n",
    "    if i>0 and hmap[i-1][j]>=hmap[i][j]-1:\n",
    "        L.append((i-1,j))\n",
    "    if i<h-1 and hmap[i+1][j]>=hmap[i][j]-1:\n",
    "        L.append((i+1,j))\n",
    "    if j>0 and hmap[i][j-1]>=hmap[i][j]-1:\n",
    "        L.append((i,j-1))\n",
    "    if j<w-1 and hmap[i][j+1]>=hmap[i][j]-1:\n",
    "        L.append((i,j+1))\n",
    "    return L\n",
    "\n",
    "#Dijkstra algorithm\n",
    "import queue\n",
    "\n",
    "Q=queue.PriorityQueue()\n",
    "Q.put((0,end))\n",
    "dmap[end[0]][end[1]] = 0\n",
    "while not Q.empty():\n",
    "    u=Q.get()[1]\n",
    "    if dmap[u[0]][u[1]]==1000000: #Comme chaque sommet peut être ajouté plusieurs fois à la file, on s'assure de ne traiter chacun qu'une fois\n",
    "        continue\n",
    "    for v in neighbors(u):\n",
    "        alt=dmap[u[0]][u[1]]+1\n",
    "        if alt<dmap[v[0]][v[1]]:\n",
    "            dmap[v[0]][v[1]]=alt\n",
    "            Q.put((alt,v))\n",
    "print(dmap[start[0]][start[1]])\n",
    "print(min(dmap[i][j] for i in range(h) for j in range(w) if hmap[i][j] == 0))"
   ]
  },
  {
   "cell_type": "markdown",
   "metadata": {},
   "source": [
    "## Day 13: Distress Signal"
   ]
  },
  {
   "cell_type": "code",
   "execution_count": 15,
   "metadata": {},
   "outputs": [
    {
     "name": "stdout",
     "output_type": "stream",
     "text": [
      "6420\n",
      "22000\n"
     ]
    }
   ],
   "source": [
    "def compare(A,B):\n",
    "    iA,iB = isinstance(A,int),isinstance(B,int)\n",
    "    if iA and iB:\n",
    "        if A<B:\n",
    "            return -1\n",
    "        if A>B:\n",
    "            return 1\n",
    "        return 0\n",
    "    if iA:\n",
    "        A = [A]\n",
    "    if iB:\n",
    "        B = [B]\n",
    "    nA,nB = len(A),len(B)\n",
    "    for i in range(min(len(A),len(B))):\n",
    "        c = compare(A[i],B[i])\n",
    "        if c==-1 or c==1:\n",
    "            return c\n",
    "    if nA<nB:\n",
    "        return -1\n",
    "    if nA>nB:\n",
    "        return 1\n",
    "    return 0\n",
    "    \n",
    "in13=[eval(x) for x in getInput(\"input13.txt\") if len(x)>0]\n",
    "pairs=[(in13[i],in13[i+1]) for i in range(0,len(in13)-1,2)]\n",
    "print(sum([i+1 for i in range(len(pairs)) if compare(*pairs[i])==-1]))\n",
    "\n",
    "in13+=[[[2]],[[6]]]\n",
    "in13.sort(key = cmp_to_key(compare))\n",
    "print((in13.index([[2]])+1)*(in13.index([[6]])+1))"
   ]
  },
  {
   "cell_type": "markdown",
   "metadata": {},
   "source": [
    "## Day 14: Regolith Reservoir"
   ]
  },
  {
   "cell_type": "code",
   "execution_count": 16,
   "metadata": {},
   "outputs": [
    {
     "name": "stdout",
     "output_type": "stream",
     "text": [
      "672\n",
      "26831\n"
     ]
    }
   ],
   "source": [
    "in14 = [[tuple(map(int,y.split(','))) for y in x.split(\"->\") ] for x in getInput(\"input14.txt\") ]\n",
    "def drawcave(cave,x1,y1,x2,y2):\n",
    "    for y in range(y1,y2+1):\n",
    "        line = \"\"\n",
    "        for x in range(x1,x2+1):\n",
    "            if (x,y) not in cave:\n",
    "                line+='.'\n",
    "            else:\n",
    "                line+=cave[(x,y)]\n",
    "        print(line)\n",
    "    print()\n",
    "   \n",
    "def parsecave():\n",
    "    cave={}\n",
    "    xmin,xmax,ymin,ymax = 1000,0,1000,0 \n",
    "    for elt in in14:\n",
    "        for i in range(len(elt)-1):\n",
    "            fr,to = elt[i],elt[i+1]\n",
    "            xmin,xmax = min(xmin,fr[0],to[0]),max(xmax,fr[0],to[0])\n",
    "            ymin,ymax = min(ymin,fr[1],to[1]),max(ymax,fr[1],to[1])\n",
    "            if fr[0]==to[0]:\n",
    "                for y in range(min(fr[1],to[1]),max(fr[1],to[1])+1):\n",
    "                    cave[(fr[0],y)] = '#'\n",
    "            else:\n",
    "                for x in range(min(fr[0],to[0]),max(fr[0],to[0])+1):\n",
    "                    cave[(x,fr[1])] = '#'\n",
    "    return cave,xmin,xmax,ymin,ymax\n",
    "        \n",
    "## Part 1\n",
    "REST = 0\n",
    "FALLING = 1\n",
    "INFINITE_FALL = 2  \n",
    "def updsand(grain,cave):\n",
    "    x,y = grain[0],grain[1]\n",
    "    if y>ymax:\n",
    "        return INFINITE_FALL\n",
    "    if (x,y+1) not in cave:\n",
    "        grain[1]+=1\n",
    "        return FALLING\n",
    "    if (x-1,y+1) not in cave:\n",
    "        grain[0]-=1\n",
    "        grain[1]+=1\n",
    "        return FALLING\n",
    "    if (x+1,y+1) not in cave:\n",
    "        grain[0]+=1\n",
    "        grain[1]+=1\n",
    "        return FALLING\n",
    "    return REST\n",
    "\n",
    "def addgrain(grain,cave):\n",
    "    cave[(grain[0],grain[1])]='O'\n",
    "\n",
    "cave,xmin,xmax,ymin,ymax = parsecave()\n",
    "nbgrains = 0\n",
    "RUN_SIM = True\n",
    "while RUN_SIM:\n",
    "    grain=[500,0]\n",
    "    while True:\n",
    "        code = updsand(grain,cave)\n",
    "        if code == INFINITE_FALL:\n",
    "            RUN_SIM = False\n",
    "            break\n",
    "        if code == REST:\n",
    "            nbgrains+=1\n",
    "            addgrain(grain,cave)\n",
    "            break\n",
    "print(nbgrains)\n",
    "\n",
    "## Part 2\n",
    "cave,_,_,_,_ = parsecave()\n",
    "\n",
    "def updsand2(grain,cave):\n",
    "    x,y = grain[0],grain[1]\n",
    "    if y==ymax+1:\n",
    "        return REST\n",
    "    if (x,y+1) not in cave:\n",
    "        grain[1]+=1\n",
    "        return FALLING\n",
    "    if (x-1,y+1) not in cave:\n",
    "        grain[0]-=1\n",
    "        grain[1]+=1\n",
    "        return FALLING\n",
    "    if (x+1,y+1) not in cave:\n",
    "        grain[0]+=1\n",
    "        grain[1]+=1\n",
    "        return FALLING\n",
    "    return REST\n",
    "\n",
    "nbgrains = 0\n",
    "RUN_SIM = True\n",
    "while RUN_SIM:\n",
    "    grain=[500,0]\n",
    "    while updsand2(grain,cave) == FALLING:\n",
    "        pass\n",
    "    nbgrains+=1\n",
    "    if grain[1]==0:\n",
    "        RUN_SIM = False\n",
    "        break\n",
    "    addgrain(grain,cave)\n",
    "print(nbgrains)"
   ]
  },
  {
   "cell_type": "markdown",
   "metadata": {},
   "source": [
    "## Day 15: Beacon Exclusion Zone"
   ]
  },
  {
   "cell_type": "code",
   "execution_count": 17,
   "metadata": {},
   "outputs": [
    {
     "name": "stdout",
     "output_type": "stream",
     "text": [
      "part 1: 4827924\n",
      "for part 2:\n",
      "for y= 2973564 bounds [(-497692, 3244276), (3244278, 4529776)]\n"
     ]
    }
   ],
   "source": [
    "def dist(A,B):\n",
    "    return abs(B[0]-A[0])+abs(B[1]-A[1])\n",
    "\n",
    "in15 = getInput(\"input15.txt\")\n",
    "grps=[re.match (\"Sensor at x=(-?\\d*), y=(-?\\d*): closest beacon is at x=(-?\\d*), y=(-?\\d*)\", line).groups() for line in in15]\n",
    "sensors = [(int(line[0]),int(line[1])) for line in grps]\n",
    "beacons = [(int(line[2]),int(line[3])) for line in grps]\n",
    "dists = [dist(sen,bea) for sen,bea in zip(sensors,beacons)]\n",
    "\n",
    "def union(intervals):\n",
    "    intervals.sort(key=lambda x:x[0])\n",
    "    start,end = intervals[0]\n",
    "    U = []\n",
    "    for I in intervals[1:]:\n",
    "        if end>=I[0]:\n",
    "            end = max(end,I[1])\n",
    "        else:\n",
    "            U.append((start,end))\n",
    "            start,end = I\n",
    "    U.append((start,end))\n",
    "    return U\n",
    "\n",
    "def isbeacon(x,y):\n",
    "    return (x,y) in beacons\n",
    "    \n",
    "bounds = []\n",
    "y = 2000000\n",
    "beacx = {bea[0] for bea in beacons if bea[1]==y}\n",
    "for sen,d in zip(sensors,dists):\n",
    "    k=d-abs(y-sen[1])\n",
    "    if k>=0:\n",
    "        bounds.append((sen[0]-k,sen[0]+k))\n",
    "bounds = union(bounds)\n",
    "length = sum(x[1]-x[0]+1 for x in union(bounds))\n",
    "for bx in beacx:\n",
    "    for b in bounds:\n",
    "        if bx>=b[0] and bx<=b[1]:\n",
    "            length-=1\n",
    "print(\"part 1:\", length)\n",
    "    \n",
    "print(\"for part 2:\")\n",
    "for y in range(0,4000001):\n",
    "    bounds = []\n",
    "    for sen,d in zip(sensors,dists):\n",
    "        k=d-abs(y-sen[1])\n",
    "        if k>=0:\n",
    "            bounds.append((sen[0]-k,sen[0]+k))\n",
    "    bounds = union(bounds)\n",
    "    if len(bounds)>1:\n",
    "        print(\"for y=\",y,\"bounds\",bounds)"
   ]
  },
  {
   "cell_type": "code",
   "execution_count": 18,
   "metadata": {},
   "outputs": [
    {
     "data": {
      "text/plain": [
       "12977110973564"
      ]
     },
     "execution_count": 18,
     "metadata": {},
     "output_type": "execute_result"
    }
   ],
   "source": [
    "3244277*4000000+2973564"
   ]
  },
  {
   "cell_type": "markdown",
   "metadata": {},
   "source": [
    "## Day 16: Proboscidea Volcanium"
   ]
  },
  {
   "cell_type": "code",
   "execution_count": 362,
   "metadata": {},
   "outputs": [
    {
     "data": {
      "text/plain": [
       "1643"
      ]
     },
     "execution_count": 362,
     "metadata": {},
     "output_type": "execute_result"
    }
   ],
   "source": [
    "in16 = [(y[1],int(y[4][5:-1]),tuple(z[:-1] for z in y[9:])) for y in [(x+\".\").split() for x in getInput(\"input16.txt\")]]\n",
    "\n",
    "adj = np.zeros((len(in16),len(in16)))\n",
    "n = len(in16)\n",
    "for i in range(n):\n",
    "    for j in range(n):\n",
    "        if in16[j][0] in in16[i][2]:\n",
    "            adj[i][j]=1\n",
    "            \n",
    "#Distance matrix from adjacency matrix\n",
    "dist = np.zeros((len(in16),len(in16)))\n",
    "M = np.copy(adj)\n",
    "for k in range(1,30):\n",
    "    for i in range(n):\n",
    "        for j in range(n):\n",
    "            if dist[i,j]==0 and M[i,j]>0:\n",
    "                dist[i,j]=k\n",
    "    M=M@adj\n",
    "    \n",
    "#\"Important\" valves\n",
    "start = [v[0] for v in in16].index(\"AA\")\n",
    "inds = [start]+[i for i in range(n) if in16[i][1]>0]\n",
    "valves = [(in16[i][0],in16[i][1],tuple(int(dist[i,j]) for j in inds)) for i in inds]\n",
    "nvalves = len(valves)\n",
    "\n",
    "#Breadth-first search\n",
    "#index: (elapsed time, current valve, open valves)\n",
    "#open valves: bitfield\n",
    "\n",
    "def isopen(bitfield,n):\n",
    "    return (bitfield>>n)&1==1\n",
    "\n",
    "def openvalve(bitfield,n):\n",
    "    return bitfield | 1<<n\n",
    "\n",
    "queue = [(0,0,0)]\n",
    "pressure={(0,0,0): 0}\n",
    "\n",
    "for _ in range(70000):\n",
    "    elapsed, curr, op = queue.pop(0)\n",
    "    for i,d in enumerate(valves[curr][2]):\n",
    "        newcurr = i\n",
    "        newop = op\n",
    "        newelapsed = elapsed+d\n",
    "        pr = pressure[(elapsed,curr,op)]\n",
    "        newpr = pr\n",
    "        if not isopen(newop,i) and i!=0:\n",
    "            newop = openvalve(newop,i)\n",
    "            newelapsed+=1\n",
    "            if newelapsed<30:\n",
    "                newpr = pr + (30-newelapsed)*valves[i][1]\n",
    "        state = (newelapsed,newcurr,newop)\n",
    "        if state not in pressure or newpr>pressure[state]:\n",
    "            pressure[state] = newpr\n",
    "        if newelapsed<=30:\n",
    "            queue.append(state)\n",
    "max(pressure[s] for s in pressure)"
   ]
  },
  {
   "cell_type": "markdown",
   "metadata": {},
   "source": [
    "## Day 17: Pyroclastic Flow"
   ]
  },
  {
   "cell_type": "code",
   "execution_count": 482,
   "metadata": {},
   "outputs": [
    {
     "data": {
      "text/plain": [
       "3184"
      ]
     },
     "execution_count": 482,
     "metadata": {},
     "output_type": "execute_result"
    }
   ],
   "source": [
    "in17 = getInput(\"input17.txt\")\n",
    "board = []\n",
    "for _ in range(10000):\n",
    "    board.append([0]*7)\n",
    "\n",
    "shapes = [((0,0),(1,0),(2,0),(3,0)),\n",
    "         ((1,0),(0,1),(1,1),(2,1),(1,2)),\n",
    "         ((0,0),(1,0),(2,0),(2,1),(2,2)),\n",
    "         ((0,0),(0,1),(0,2),(0,3)),\n",
    "         ((0,0),(1,0),(0,1),(1,1))]\n",
    "\n",
    "\n",
    "\n",
    "\n",
    "def carve(p):\n",
    "    sh = shapes[p[2]]\n",
    "    for x in sh:\n",
    "        board[p[1]+x[1]][p[0]+x[0]]=1\n",
    "\n",
    "def collides(p):\n",
    "    x,y,ind=p[0],p[1],p[2]\n",
    "    if x<0 or x+[4,3,3,1,2][ind]>7 or y<0:\n",
    "        return True\n",
    "    sh = shapes[p[2]]\n",
    "    for x in sh:\n",
    "        if board[p[1]+x[1]][p[0]+x[0]]==1:\n",
    "            return True\n",
    "    return False\n",
    "\n",
    "def getnext(p):\n",
    "    p[2]=(p[2]+1)%5\n",
    "    p[0]=2\n",
    "    p[1]=towerheight+3\n",
    "    #print(\"new at\",p[1])\n",
    "    \n",
    "def prboard():\n",
    "    for l in board[::-1]:\n",
    "        print(\"\".join(map(str,l)))\n",
    "towerheight = 0\n",
    "piece = [2,3,0] #x,y,index\n",
    "\n",
    "def lineatheight(y):\n",
    "    for i in range(7):\n",
    "        if board[y][i]!=1:\n",
    "            return False\n",
    "    return True\n",
    "\n",
    "def findcycle(lst):\n",
    "    m=1\n",
    "    slow = 1\n",
    "    fast = 2\n",
    "    while lst[slow]!=lst[fast]:\n",
    "        m+=1\n",
    "        slow+=1\n",
    "        fast+=2\n",
    "    return m\n",
    "\n",
    "nrock=1\n",
    "prgm = in17[0]\n",
    "ip=0\n",
    "increases=[]\n",
    "\n",
    "while nrock<=2022:\n",
    "    jet = prgm[ip]\n",
    "    #print(jet)\n",
    "    xold=piece[0]\n",
    "    if jet=='<':\n",
    "        piece[0]-=1\n",
    "    elif jet=='>':\n",
    "        piece[0]+=1\n",
    "    if collides(piece):\n",
    "        piece[0]=xold\n",
    "    piece[1]-=1\n",
    "    if collides(piece):\n",
    "        piece[1]+=1\n",
    "        carve(piece)\n",
    "        nrock+=1\n",
    "        h = piece[1]+[1,3,3,4,2][piece[2]]\n",
    "        dh = max(towerheight,h) - towerheight\n",
    "        towerheight+=dh\n",
    "        increases.append(dh)\n",
    "\n",
    "        getnext(piece)\n",
    "\n",
    "    ip=(ip+1)%len(prgm)\n",
    "\n",
    "towerheight"
   ]
  },
  {
   "cell_type": "code",
   "execution_count": 491,
   "metadata": {},
   "outputs": [
    {
     "data": {
      "text/plain": [
       "2022"
      ]
     },
     "execution_count": 491,
     "metadata": {},
     "output_type": "execute_result"
    }
   ],
   "source": [
    "len(increases)"
   ]
  },
  {
   "cell_type": "code",
   "execution_count": null,
   "metadata": {},
   "outputs": [],
   "source": []
  }
 ],
 "metadata": {
  "kernelspec": {
   "display_name": "Python 3",
   "language": "python",
   "name": "python3"
  },
  "language_info": {
   "codemirror_mode": {
    "name": "ipython",
    "version": 3
   },
   "file_extension": ".py",
   "mimetype": "text/x-python",
   "name": "python",
   "nbconvert_exporter": "python",
   "pygments_lexer": "ipython3",
   "version": "3.7.4"
  }
 },
 "nbformat": 4,
 "nbformat_minor": 4
}
