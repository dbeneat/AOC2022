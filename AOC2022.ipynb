{
 "cells": [
  {
   "cell_type": "markdown",
   "metadata": {},
   "source": [
    "# Advent of Code 2022"
   ]
  },
  {
   "cell_type": "code",
   "execution_count": 1,
   "metadata": {},
   "outputs": [],
   "source": [
    "from copy import deepcopy"
   ]
  },
  {
   "cell_type": "code",
   "execution_count": 2,
   "metadata": {},
   "outputs": [],
   "source": [
    "def getInput(path):\n",
    "    with open(\"data/\"+path) as f:\n",
    "        return [line.rstrip() for line in f.readlines()]\n",
    "def toLLints(lst): #to List of Lists of ints\n",
    "    L = [[]]\n",
    "    for x in lst:\n",
    "        if x=='':\n",
    "            L.append([])\n",
    "        else:\n",
    "            L[-1].append(int(x))\n",
    "    return L"
   ]
  },
  {
   "cell_type": "markdown",
   "metadata": {},
   "source": [
    "## Day 1: Calorie Counting"
   ]
  },
  {
   "cell_type": "code",
   "execution_count": 3,
   "metadata": {},
   "outputs": [
    {
     "name": "stdout",
     "output_type": "stream",
     "text": [
      "69836\n",
      "207968\n"
     ]
    }
   ],
   "source": [
    "L = [sum(x) for x in toLLints(getInput(\"input01.txt\"))]\n",
    "L.sort()\n",
    "print(L[-1])\n",
    "print(sum(L[-3:]))"
   ]
  },
  {
   "cell_type": "markdown",
   "metadata": {},
   "source": [
    "## Day 2: Rock Paper Scissors"
   ]
  },
  {
   "cell_type": "code",
   "execution_count": 4,
   "metadata": {},
   "outputs": [
    {
     "name": "stdout",
     "output_type": "stream",
     "text": [
      "12586\n",
      "13193\n"
     ]
    }
   ],
   "source": [
    "def rpsScore(st):\n",
    "    t={\"A X\":1+3, \"A Y\":2+6, \"A Z\":3+0,\n",
    "       \"B X\":1+0, \"B Y\":2+3, \"B Z\":3+6,\n",
    "       \"C X\":1+6, \"C Y\":2+0, \"C Z\":3+3}\n",
    "    return t[st]\n",
    "def rpsScore2(st):\n",
    "    t={\"A X\":3+0, \"A Y\":1+3, \"A Z\":2+6,\n",
    "       \"B X\":1+0, \"B Y\":2+3, \"B Z\":3+6,\n",
    "       \"C X\":2+0, \"C Y\":3+3, \"C Z\":1+6}\n",
    "    return t[st]\n",
    "print(sum([rpsScore(x) for x in getInput(\"input02.txt\")]))\n",
    "print(sum([rpsScore2(x) for x in getInput(\"input02.txt\")]))"
   ]
  },
  {
   "cell_type": "markdown",
   "metadata": {},
   "source": [
    "## Day 3: Rucksack Reorganization"
   ]
  },
  {
   "cell_type": "code",
   "execution_count": 5,
   "metadata": {},
   "outputs": [
    {
     "name": "stdout",
     "output_type": "stream",
     "text": [
      "8105\n",
      "2363\n"
     ]
    }
   ],
   "source": [
    "def priority(letter):\n",
    "    n=ord(letter)\n",
    "    if n>=97:\n",
    "        return n-96\n",
    "    else:\n",
    "        return n-38\n",
    "rucksacks=[list(map(priority,list(x))) for x in getInput(\"input03.txt\")]\n",
    "rs1=[[set(x[:len(x)//2]),set(x[len(x)//2:])] for x in rucksacks]\n",
    "print(sum(y for x in rs1 for y in set.intersection(x[0],x[1])))\n",
    "\n",
    "rs2=[rucksacks[i:i+3] for i in range(0,len(rucksacks),3)]\n",
    "print(sum(y for x in rs2 for y in set.intersection(set(x[0]),set(x[1]),set(x[2]))))"
   ]
  },
  {
   "cell_type": "markdown",
   "metadata": {},
   "source": [
    "## Day 4: Camp Cleanup"
   ]
  },
  {
   "cell_type": "code",
   "execution_count": 6,
   "metadata": {},
   "outputs": [
    {
     "name": "stdout",
     "output_type": "stream",
     "text": [
      "538\n",
      "792\n"
     ]
    }
   ],
   "source": [
    "def inclusion(t1,t2):\n",
    "    return (t1[0]-t2[0])*(t1[1]-t2[1])<=0\n",
    "def overlap(t1,t2):\n",
    "    return t2[0]<=t1[1] and t1[0]<=t2[1]\n",
    "assign=[\n",
    "    [tuple(map(int,y.split(\"-\"))) for y in x.split(\",\")]\n",
    "     for x in getInput(\"input04.txt\")\n",
    "]\n",
    "print(len([x for x in assign if inclusion(*x)]))\n",
    "print(len([x for x in assign if overlap(*x)]))"
   ]
  },
  {
   "cell_type": "markdown",
   "metadata": {},
   "source": [
    "## Day 5: Supply Stacks"
   ]
  },
  {
   "cell_type": "code",
   "execution_count": 7,
   "metadata": {},
   "outputs": [
    {
     "name": "stdout",
     "output_type": "stream",
     "text": [
      "FWNSHLDNZ\n",
      "RNRGDNFQG\n"
     ]
    }
   ],
   "source": [
    "in5 = getInput(\"input05.txt\")\n",
    "sep = in5.index('')\n",
    "nstacks = int(in5[sep-1][-1])\n",
    "stacktxt,movestxt = in5[:sep-1],in5[sep+1:]\n",
    "moves = [(int(y[1]),int(y[3]),int(y[5])) for y in [x.split() for x in movestxt]]\n",
    "stacks = [[] for _ in range(nstacks+1)] #stack 0 is a temporary storage\n",
    "for i in range(len(stacktxt)-1,-1,-1):\n",
    "    for j in range((len(stacktxt[i])+1)//4):\n",
    "        letter = stacktxt[i][4*j+1]\n",
    "        if letter!=' ':\n",
    "            stacks[j+1].append(letter)\n",
    "\n",
    "def stackmove(n, src, dst):\n",
    "    for i in range(n):\n",
    "            st[dst].append(st[src].pop())\n",
    "def stackmove2(n, src, dst):\n",
    "    stackmove(n,src,0)\n",
    "    stackmove(n,0,dst)\n",
    "        \n",
    "st = deepcopy(stacks)      \n",
    "for mv in moves:\n",
    "    stackmove(*mv)\n",
    "print(''.join([x[-1] for x in st[1:]]))\n",
    "\n",
    "st = deepcopy(stacks)   \n",
    "for mv in moves:\n",
    "    stackmove2(*mv)\n",
    "print(''.join([x[-1] for x in st[1:]]))"
   ]
  },
  {
   "cell_type": "markdown",
   "metadata": {},
   "source": [
    "## Day 6: Tuning Trouble"
   ]
  },
  {
   "cell_type": "code",
   "execution_count": 8,
   "metadata": {},
   "outputs": [
    {
     "name": "stdout",
     "output_type": "stream",
     "text": [
      "1142\n",
      "2803\n"
     ]
    }
   ],
   "source": [
    "def startOfPacket(txt,size):\n",
    "    for i in range(len(txt)):\n",
    "        if len(set(txt[i:i+size]))==size:\n",
    "            return i+size        \n",
    "\n",
    "print(startOfPacket(getInput(\"input06.txt\")[0],4))\n",
    "print(startOfPacket(getInput(\"input06.txt\")[0],14))"
   ]
  },
  {
   "cell_type": "markdown",
   "metadata": {},
   "source": [
    "## Day 7"
   ]
  },
  {
   "cell_type": "code",
   "execution_count": 9,
   "metadata": {},
   "outputs": [
    {
     "name": "stdout",
     "output_type": "stream",
     "text": [
      "1770595\n",
      "2195372\n"
     ]
    }
   ],
   "source": [
    "def mktree(cmds):\n",
    "    tree = {} \n",
    "    currdir = ['.']\n",
    "    currpath = '.'\n",
    "    listing = False\n",
    "    for x in cmds:\n",
    "        if x[0]=='$' and x[1]=='cd':\n",
    "            if x[2]=='..':\n",
    "                currdir.pop()\n",
    "            elif x[2]=='/':\n",
    "                currdir = ['.']\n",
    "            else:\n",
    "                currdir.append(x[2])\n",
    "            currpath = '/'.join(currdir)\n",
    "            listing = False\n",
    "        elif x[0]=='$' and x[1]=='ls':\n",
    "            listing = True\n",
    "        elif listing:\n",
    "            if x[0].isnumeric():\n",
    "                if currpath not in tree:\n",
    "                    tree[currpath]=[int(x[0]),[]]\n",
    "                else:\n",
    "                    tree[currpath][0]+=int(x[0])\n",
    "            else:\n",
    "                if currpath not in tree:\n",
    "                    tree[currpath]=[0,[currpath+'/'+x[1]]]\n",
    "                else:\n",
    "                    tree[currpath][1].append(currpath+'/'+x[1])\n",
    "            \n",
    "    return tree\n",
    "\n",
    "\n",
    "cmds = [x.split() for x in getInput(\"input07.txt\")]\n",
    "tree = mktree(cmds)\n",
    "totalSizes = {}\n",
    "while '.' not in totalSizes:\n",
    "    for x in tree:\n",
    "        if all(y in totalSizes for y in tree[x][1]):\n",
    "            totalSizes[x] = tree[x][0] + sum(totalSizes[y] for y in tree[x][1])\n",
    "\n",
    "\n",
    "print(sum(x for x in totalSizes.values() if x<=100000))\n",
    "print(min(x for x in totalSizes.values() if 70000000-totalSizes['.']+x>=30000000))"
   ]
  }
 ],
 "metadata": {
  "kernelspec": {
   "display_name": "Python 3",
   "language": "python",
   "name": "python3"
  },
  "language_info": {
   "codemirror_mode": {
    "name": "ipython",
    "version": 3
   },
   "file_extension": ".py",
   "mimetype": "text/x-python",
   "name": "python",
   "nbconvert_exporter": "python",
   "pygments_lexer": "ipython3",
   "version": "3.7.4"
  }
 },
 "nbformat": 4,
 "nbformat_minor": 4
}
